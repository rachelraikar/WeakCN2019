{
 "cells": [
  {
   "cell_type": "markdown",
   "metadata": {},
   "source": [
    "# README"
   ]
  },
  {
   "cell_type": "markdown",
   "metadata": {},
   "source": [
    "Work on weak CN stars in M31."
   ]
  },
  {
   "cell_type": "markdown",
   "metadata": {},
   "source": [
    "## Requirements"
   ]
  },
  {
   "cell_type": "markdown",
   "metadata": {},
   "source": [
    "#### Installing Anaconda\n",
    "Download Anaconda from https://www.anaconda.com/distribution/. Make sure to install the Python 3.7 version! \n",
    "\n",
    "#### Using Jupyter\n",
    "Open up Anaconda Navigator and type 'jupyter notebook' into it. This will launch jupyter on your web browser. Alternatively use terminal to cd to directory and open jupyter from there.\n",
    "\n",
    "#### How to set up a Git repository on your laptop\n",
    "1. Go to terminal and cd to the spot you would like the WeakCN2019 repository (folder)\n",
    "2. Then type: git clone https://github.com/rachelraikar/WeakCN2019.git into your terminal. This will copy the repository as a folder onto your laptop with the files\n",
    "\n",
    "#### How to pull/push changes\n",
    "##### Pull Changes\n",
    "To pull any changes made by others, use terminal to navigate to directory and type git pull.\n",
    "\n",
    "\n",
    "##### Push Changes\n",
    "After making any changes on the notebook, save and checkpoint. These changes will be saved locally. Then, to push this to Github, navigate to the directory on terminal and type: \n",
    ">             git add 'the file name'\n",
    ">             git commit -m 'your message/comments'  (-a -m instead of -m if not mac user)\n",
    ">             git push\n",
    "\n",
    "The change should now be visible on github."
   ]
  },
  {
   "cell_type": "markdown",
   "metadata": {},
   "source": [
    "## File Summaries"
   ]
  },
  {
   "cell_type": "markdown",
   "metadata": {},
   "source": [
    "**Automation Version 1.4.1**\n",
    "SIP 2016 code by Anika Kamath. Data cleaning and plotting weak CN stars on CMDs. \n",
    "\n",
    "**Automation Version 2.5.3**\n",
    "SIP 2018 code by Alexandra Masegian and Arya Maheshwari. Creating a carbon template spectrum and graphing scores against it, kernel density estimations for classification.\n",
    "\n",
    "**Automation Version 2.6.1**\n",
    "SIP 2018 code by Alexandra Masegian and Arya Maheshwari. Creating a carbon template spectrum and graphing scores against it, kernel density estimations for classification, slope calculation.\n",
    "\n",
    "**Automation Version 2.7 test**\n",
    "SIP 2019 code by Antara Bhattacharya, Suhas Kotha, Allison Chang. Machine-classification of weak CN and carbon stars based on their positions on graphs of scores against undiluted and diluted carbon and weak CN templates and slope magnitudes.\n",
    "\n",
    "**Automation Version 3.0**\n",
    "Attempt to combine and clean up 2.5.3 and 2.6.1.\n",
    "\n",
    "**Automation Version 4.0**\n",
    "Code by Rachel Raikar and Antara Bhattacharya. Classification of weak CN stars based on their position on CMDs with distance from the head of the plot of scores against undiluted templates used as a classification metric.\n"
   ]
  },
  {
   "cell_type": "markdown",
   "metadata": {},
   "source": [
    "## CSV folder"
   ]
  },
  {
   "cell_type": "markdown",
   "metadata": {},
   "source": [
    "I don't know what to write here so I'm just keeping some placeholder text here for now."
   ]
  },
  {
   "cell_type": "markdown",
   "metadata": {},
   "source": [
    "## Troubleshooting"
   ]
  },
  {
   "cell_type": "markdown",
   "metadata": {},
   "source": [
    "Google doc with resources for help with Python/Github problems \n",
    "https://docs.google.com/document/d/1nbBvIYcEp0FrCOEeOlo-bxkvCmlRNhHeFeaXnpO_46g/edit?ts=5d0d0d6f\n"
   ]
  }
 ],
 "metadata": {
  "kernelspec": {
   "display_name": "Python 3",
   "language": "python",
   "name": "python3"
  },
  "language_info": {
   "codemirror_mode": {
    "name": "ipython",
    "version": 3
   },
   "file_extension": ".py",
   "mimetype": "text/x-python",
   "name": "python",
   "nbconvert_exporter": "python",
   "pygments_lexer": "ipython3",
   "version": "3.7.3"
  },
  "toc": {
   "base_numbering": 1,
   "nav_menu": {},
   "number_sections": false,
   "sideBar": true,
   "skip_h1_title": false,
   "title_cell": "Table of Contents",
   "title_sidebar": "Contents",
   "toc_cell": false,
   "toc_position": {},
   "toc_section_display": true,
   "toc_window_display": true
  }
 },
 "nbformat": 4,
 "nbformat_minor": 2
}
